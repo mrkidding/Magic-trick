{
  "nbformat": 4,
  "nbformat_minor": 0,
  "metadata": {
    "colab": {
      "provenance": [],
      "authorship_tag": "ABX9TyNC8TpBFa0atPQ+7KNhxyIQ",
      "include_colab_link": true
    },
    "kernelspec": {
      "name": "python3",
      "display_name": "Python 3"
    },
    "language_info": {
      "name": "python"
    }
  },
  "cells": [
    {
      "cell_type": "markdown",
      "metadata": {
        "id": "view-in-github",
        "colab_type": "text"
      },
      "source": [
        "<a href=\"https://colab.research.google.com/github/mrkidding/Magic-trick/blob/main/formulate_the_equations.ipynb\" target=\"_parent\"><img src=\"https://colab.research.google.com/assets/colab-badge.svg\" alt=\"Open In Colab\"/></a>"
      ]
    },
    {
      "cell_type": "code",
      "execution_count": null,
      "metadata": {
        "id": "sZ4Y2SSp5Ffh"
      },
      "outputs": [],
      "source": [
        "\n",
        "\n"
      ]
    },
    {
      "cell_type": "markdown",
      "source": [
        "# Generate random 4 cards\n",
        "### randomly pick 3 displayed cards and 1 hidden card\n",
        "### formulate a equation to match 3 displayed cards to 1 card"
      ],
      "metadata": {
        "id": "wPYzqFS67uxZ"
      }
    },
    {
      "cell_type": "code",
      "source": [
        "# generate one random card\n",
        "# pre order of suits are\n",
        "# 1. Hearts（红心）\n",
        "# 2. Diamonds（方块）\n",
        "# 3. Spades（黑桃）\n",
        "# 4. Clubs（梅花）\n",
        "import random\n",
        "from enum import Enum\n",
        "\n",
        "# define Enum of suit\n",
        "class Suit(Enum):\n",
        "    HEARTS = (\"Hearts\", 1)\n",
        "    DIAMONDS = (\"Diamonds\", 2)\n",
        "    SPADES = (\"Spades\", 3)\n",
        "    CLUBS = (\"Clubs\", 4)\n",
        "\n",
        "class PlayingCard:\n",
        "    def __init__(self, suit, rank, up):\n",
        "        self.suit = suit\n",
        "        self.rank = rank\n",
        "        self.up = up\n",
        "\n",
        "    def __str__(self):\n",
        "        return f\"{self.suit.value[0]} {self.rank} {self.up}\"\n",
        "\n",
        "def generate_random_hand(n):\n",
        "    hand = set()\n",
        "    while len(hand) < n:\n",
        "        random_suit = random.choice(list(Suit))\n",
        "        random_rank = random.randint(1, 13)\n",
        "        random_up = random.choice([\"up\", \"down\"])\n",
        "        card = PlayingCard(random_suit, random_rank, random_up)\n",
        "        hand.add(card)\n",
        "    print(\"Randomly generated hand:\")\n",
        "    for card in hand:\n",
        "      print(card)\n",
        "    return list(hand)\n",
        "\n",
        "\n",
        "\n"
      ],
      "metadata": {
        "id": "6NJjLVpE7yBm"
      },
      "execution_count": null,
      "outputs": []
    },
    {
      "cell_type": "code",
      "source": [
        "# define compare logic\n",
        "def compare_cards(card1, card2, suits_order):\n",
        "    if card1.rank < card2.rank:\n",
        "        return 0\n",
        "    elif card1.rank > card2.rank:\n",
        "        return 1\n",
        "    else:\n",
        "        if suits_order.index(card1.suit) < suits_order.index(card2.suit):\n",
        "            return 0\n",
        "        elif suits_order.index(card1.suit) > suits_order.index(card2.suit):\n",
        "            return 1\n",
        "        else:\n",
        "            return 0"
      ],
      "metadata": {
        "id": "J2D1go2OAwD6"
      },
      "execution_count": null,
      "outputs": []
    },
    {
      "cell_type": "markdown",
      "source": [
        "# compute according to the equation\n"
      ],
      "metadata": {
        "id": "ZiY7f6HXAx2q"
      }
    },
    {
      "cell_type": "code",
      "source": [
        "# 6 attributes\n",
        "# 1. a1, a2, a3 represent the up and down of 3 displayed cards\n",
        "# 2. denote c1, c2, c3 as the value of 3 displayed cards,\n",
        "# c4 is the value of the hidden card\n",
        "# a4 = c1 > c2, a5 = c1 > c3, d6 = c2 > c3\n",
        "# the equation is 24 * a1 + 6 * a2 + 12 * a3 + 2 * a4 + a5 + 2 * a6 + t = c4\n",
        "# compute k\n",
        "import copy\n",
        "def formulate(cards, suits_order):\n",
        "  # compute the value of attributes\n",
        "  a1 = 1 if cards[0].up == \"up\" else 0\n",
        "  a2 = 1 if cards[1].up == \"up\" else 0\n",
        "  a3 = 1 if cards[2].up == \"up\" else 0\n",
        "\n",
        "  a4 = compare_cards(cards[0], cards[1], suits_order)\n",
        "  a5 = compare_cards(cards[0], cards[2], suits_order)\n",
        "  a6 = compare_cards(cards[1], cards[2], suits_order)\n",
        "\n",
        "  print(\"a1: \" + str(a1) + \", a2: \"+ str(a2) + \", a3: \"\n",
        "        + str(a3) + \", a4: \"+ str(a4) + \", a5: \" + str(a5) + \", a6: \"+ str(a6))\n",
        "\n",
        "  card4 = cards[3]\n",
        "  rank = card4.rank\n",
        "  k = (24 * a1 + 6 * a2 + 12 * a3 + 2 * a4 + a5 + 2 * a6)\n",
        "  print(card4.rank)\n",
        "  print(k)\n",
        "\n",
        "  suit_index = 0\n",
        "  while rank < k:\n",
        "    rank = rank + 13\n",
        "    suit_index = suit_index + 1\n",
        "  t = rank - k\n",
        "  print(\"t:\", t, \", suit_index:\", suit_index)\n",
        "  print(card4.suit)\n",
        "\n",
        "  # modidy the order of the suit\n",
        "  new_order = copy.deepcopy(suits_order)\n",
        "  new_order.remove(card4.suit)\n",
        "  new_order.insert(suit_index, card4.suit)\n",
        "\n",
        "  print(new_order)\n",
        "  a4 = compare_cards(cards[0], cards[1], new_order)\n",
        "  a5 = compare_cards(cards[0], cards[2], new_order)\n",
        "  a6 = compare_cards(cards[1], cards[2], new_order)\n",
        "\n",
        "  k = (24 * a1 + 6 * a2 + 12 * a3 + 2 * a4 + 2 * a5 + 1 * a6)\n",
        "  c4 = card4.rank + new_order.index(card4.suit) * 13\n",
        "\n",
        "  t = c4 - k\n",
        "  print(\"t: \", t)\n",
        "  return new_order, t\n"
      ],
      "metadata": {
        "id": "4ehS3mdDA3Ax"
      },
      "execution_count": null,
      "outputs": []
    },
    {
      "cell_type": "code",
      "source": [
        "# 生成一手四张不重复的随机扑克牌\n",
        "random_hand = generate_random_hand(4)\n",
        "suits_order = [Suit.HEARTS, Suit.DIAMONDS, Suit.CLUBS, Suit.SPADES]\n",
        "new_order, t = formulate(random_hand, suits_order)\n"
      ],
      "metadata": {
        "colab": {
          "base_uri": "https://localhost:8080/"
        },
        "id": "GoAnvYGQTkaJ",
        "outputId": "bc603e65-4c29-4246-de73-00bdd6ae1116"
      },
      "execution_count": null,
      "outputs": [
        {
          "output_type": "stream",
          "name": "stdout",
          "text": [
            "Randomly generated hand:\n",
            "Diamonds 5 down\n",
            "Clubs 9 up\n",
            "Clubs 4 down\n",
            "Spades 9 down\n",
            "a1: 0, a2: 1, a3: 0, a4: 0, a5: 1, a6: 1\n",
            "9\n",
            "9\n",
            "t: 0 , suit_index: 0\n",
            "Suit.SPADES\n",
            "[<Suit.SPADES: ('Spades', 3)>, <Suit.HEARTS: ('Hearts', 1)>, <Suit.DIAMONDS: ('Diamonds', 2)>, <Suit.CLUBS: ('Clubs', 4)>]\n",
            "t:  0\n"
          ]
        }
      ]
    },
    {
      "cell_type": "code",
      "source": [
        "card1 = PlayingCard(Suit.HEARTS, 13, \"up\")\n",
        "card2 = PlayingCard(Suit.HEARTS, 7, \"up\")\n",
        "card3 = PlayingCard(Suit.SPADES, 2, \"up\")\n",
        "card4 = PlayingCard(Suit.CLUBS, 2, \"up\")\n",
        "\n",
        "cards = []\n",
        "cards.append(card1)\n",
        "cards.append(card2)\n",
        "cards.append(card3)\n",
        "cards.append(card4)\n",
        "\n",
        "suits_order = [Suit.HEARTS, Suit.DIAMONDS, Suit.CLUBS, Suit.SPADES]\n",
        "new_order, t = formulate(cards, suits_order)"
      ],
      "metadata": {
        "colab": {
          "base_uri": "https://localhost:8080/"
        },
        "id": "hQ5dy__gm_vL",
        "outputId": "98bea4df-4f3f-4135-e15c-417a96b66683"
      },
      "execution_count": null,
      "outputs": [
        {
          "output_type": "stream",
          "name": "stdout",
          "text": [
            "a1: 1, a2: 1, a3: 1, a4: 1, a5: 1, a6: 1\n",
            "2\n",
            "47\n",
            "t: 7 , suit_index: 4\n",
            "Suit.CLUBS\n",
            "[<Suit.HEARTS: ('Hearts', 1)>, <Suit.DIAMONDS: ('Diamonds', 2)>, <Suit.SPADES: ('Spades', 3)>, <Suit.CLUBS: ('Clubs', 4)>]\n",
            "t:  -6\n"
          ]
        }
      ]
    },
    {
      "cell_type": "markdown",
      "source": [
        "# Using the equation to use 3 displayed cards to represent 1 hidden card"
      ],
      "metadata": {
        "id": "pfsPxX-cUZ4B"
      }
    },
    {
      "cell_type": "code",
      "source": [
        "\n",
        "def display(c4):\n",
        "  print(\"c4: \", c4)\n",
        "  a1 = c4 // 24\n",
        "  c4 = c4 % 24\n",
        "\n",
        "  a2 = c4 // 12\n",
        "  c4 = c4 % 12\n",
        "\n",
        "  a3 = c4 // 6\n",
        "  c4 = c4 % 6\n",
        "\n",
        "\n",
        "  # 123\n",
        "  a4 = 0\n",
        "  a5 = 0\n",
        "  a6 = 0\n",
        "\n",
        "  # 132\n",
        "  if c4 == 1:\n",
        "    a6 = 1\n",
        "\n",
        "  # 213\n",
        "  elif c4 == 2:\n",
        "    a4 = 1\n",
        "\n",
        "  # 231\n",
        "  elif c4 == 3:\n",
        "    a5 = 1\n",
        "    a6 = 1\n",
        "\n",
        "  # 312\n",
        "  elif c4 == 4:\n",
        "    a4 = 1\n",
        "    a5 = 1\n",
        "\n",
        "  # 321\n",
        "  else:\n",
        "    a4 = 1\n",
        "    a5 = 1\n",
        "    a6 = 1\n",
        "  a = []\n",
        "  a.append(a1)\n",
        "  a.append(a2)\n",
        "  a.append(a3)\n",
        "  a.append(a4)\n",
        "  a.append(a5)\n",
        "  a.append(a6)\n",
        "  return a\n",
        "\n",
        "\n",
        "\n"
      ],
      "metadata": {
        "id": "8mx1asK8Ulah"
      },
      "execution_count": null,
      "outputs": []
    },
    {
      "cell_type": "code",
      "source": [
        "cards = generate_random_hand(1)\n",
        "c4 = cards[0].rank + suits_order.index(cards[0].suit) * 13\n",
        "print(display(c4))"
      ],
      "metadata": {
        "colab": {
          "base_uri": "https://localhost:8080/"
        },
        "id": "HNhIQo0HqLRk",
        "outputId": "1441b26b-9ca6-4557-8c3e-170e7b053ba0"
      },
      "execution_count": null,
      "outputs": [
        {
          "output_type": "stream",
          "name": "stdout",
          "text": [
            "Randomly generated hand:\n",
            "Spades 7 up\n",
            "Hearts 6 down\n",
            "Hearts 13 up\n",
            "Hearts 3 up\n",
            "c4:  40\n",
            "[1, 1, 0, 1, 1, 0]\n"
          ]
        }
      ]
    },
    {
      "cell_type": "code",
      "source": [
        "class Para:\n",
        "    def __init__(self, X):\n",
        "        self.X = X\n",
        "beta = []\n",
        "t = 0\n",
        "p0 = Para(t)\n",
        "p1 = Para(24.0)\n",
        "p2 = Para(6.0)\n",
        "p3 = Para(12.0)\n",
        "p4 = Para(2.0)\n",
        "p5 = Para(2.0)\n",
        "p6 = Para(1.0)\n",
        "\n",
        "beta.append(p0)\n",
        "beta.append(p1)\n",
        "beta.append(p2)\n",
        "beta.append(p3)\n",
        "beta.append(p4)\n",
        "beta.append(p5)\n",
        "beta.append(p6)\n",
        "\n",
        "for i in range(len(beta)):\n",
        "  print('beta[{}]: {}'.format(i, beta[i].X))"
      ],
      "metadata": {
        "colab": {
          "base_uri": "https://localhost:8080/"
        },
        "id": "laEfbsrXo0Qe",
        "outputId": "154708b8-be8d-41b1-9bf8-6a467ada235c"
      },
      "execution_count": null,
      "outputs": [
        {
          "output_type": "stream",
          "name": "stdout",
          "text": [
            "beta[0]: 0\n",
            "beta[1]: 24.0\n",
            "beta[2]: 6.0\n",
            "beta[3]: 12.0\n",
            "beta[4]: 2.0\n",
            "beta[5]: 2.0\n",
            "beta[6]: 1.0\n"
          ]
        }
      ]
    },
    {
      "cell_type": "code",
      "source": [
        "for i in range(len(beta)):\n",
        "  print('beta[{}]: {}'.format(i, beta[i].X))"
      ],
      "metadata": {
        "colab": {
          "base_uri": "https://localhost:8080/"
        },
        "id": "GIwddwhe-Kvh",
        "outputId": "85058dfe-7e85-4ffa-8d58-dc729fccb611"
      },
      "execution_count": null,
      "outputs": [
        {
          "output_type": "stream",
          "name": "stdout",
          "text": [
            "beta[0]: 0\n",
            "beta[1]: 24.0\n",
            "beta[2]: 6.0\n",
            "beta[3]: 12.0\n",
            "beta[4]: 2.0\n",
            "beta[5]: 2.0\n",
            "beta[6]: 1.0\n"
          ]
        }
      ]
    },
    {
      "cell_type": "code",
      "source": [],
      "metadata": {
        "id": "v1aE875mDRJa"
      },
      "execution_count": null,
      "outputs": []
    }
  ]
}