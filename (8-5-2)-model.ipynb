{
  "nbformat": 4,
  "nbformat_minor": 0,
  "metadata": {
    "colab": {
      "provenance": [],
      "toc_visible": true,
      "authorship_tag": "ABX9TyPczsXdJdd64YMXXNz/gPel",
      "include_colab_link": true
    },
    "kernelspec": {
      "name": "python3",
      "display_name": "Python 3"
    },
    "language_info": {
      "name": "python"
    }
  },
  "cells": [
    {
      "cell_type": "markdown",
      "metadata": {
        "id": "view-in-github",
        "colab_type": "text"
      },
      "source": [
        "<a href=\"https://colab.research.google.com/github/mrkidding/Magic-trick/blob/main/%EF%BC%888%2C_5%2C_2)_model.ipynb\" target=\"_parent\"><img src=\"https://colab.research.google.com/assets/colab-badge.svg\" alt=\"Open In Colab\"/></a>"
      ]
    },
    {
      "cell_type": "markdown",
      "source": [
        "# Hide 3 cards, compute the upper bound\n",
        "Accoring to paper 1, N - m + 3 choose 3 <= (m - 3)! * (m choose 3).\n",
        "For given m, let's compute the largest N"
      ],
      "metadata": {
        "id": "SiXi304X3oMp"
      }
    },
    {
      "cell_type": "code",
      "execution_count": null,
      "metadata": {
        "id": "cFHXZnEJ3fHz"
      },
      "outputs": [],
      "source": [
        "import math\n",
        "\n",
        "def compute_N(m):\n",
        "  factorial = math.factorial(m)\n",
        "  i = m\n",
        "  while (i - m + 3) * (i - m + 2) * (i - m + 1) <= factorial:\n",
        "    i = i + 1\n",
        "  return i - 1"
      ]
    },
    {
      "cell_type": "code",
      "source": [
        "for i in range(4, 9):\n",
        "  print(\"m:\", i, \", N: \", compute_N(i))"
      ],
      "metadata": {
        "colab": {
          "base_uri": "https://localhost:8080/"
        },
        "id": "Uft_2w_U40PO",
        "outputId": "281383b2-4baa-4249-d11a-a8981c4b6b97"
      },
      "execution_count": null,
      "outputs": [
        {
          "output_type": "stream",
          "name": "stdout",
          "text": [
            "m: 4 , N:  5\n",
            "m: 5 , N:  8\n",
            "m: 6 , N:  13\n",
            "m: 7 , N:  22\n",
            "m: 8 , N:  40\n"
          ]
        }
      ]
    },
    {
      "cell_type": "markdown",
      "source": [
        "# Let's talk about the case that m = 5 first\n"
      ],
      "metadata": {
        "id": "X715b0O380Xh"
      }
    },
    {
      "cell_type": "code",
      "source": [
        "#U: Display of k(2) cards, (8 choose 2) * 2 = 56.\n",
        "#V: a set of m(5) cards, (8 choose 5) = 56.\n",
        "#|U| >= |V|.\n",
        "\n",
        "\n",
        "from itertools import combinations\n",
        "from itertools import permutations\n",
        "\n",
        "n = 7\n",
        "cards = [_ for _ in range(1, n + 1)]\n",
        "\n",
        "# 获取所有有序取出2张牌的排列\n",
        "pers = list(permutations(cards, 2))\n",
        "print(len(pers))\n",
        "\n",
        "per_set = set(pers)\n",
        "\n",
        "# 获取所有有序取出5张牌的组合\n",
        "combs = list(combinations(cards, 5))\n",
        "print(len(combs))\n",
        "\n",
        "comb_set = set(combs)\n",
        "# 输出结果\n",
        "#for combination in combinations:\n",
        "#    print(combination)"
      ],
      "metadata": {
        "colab": {
          "base_uri": "https://localhost:8080/"
        },
        "id": "i7Eq5pjJ8UX7",
        "outputId": "b0f4cce4-7b2e-408e-82c3-533c14ddbe4e"
      },
      "execution_count": null,
      "outputs": [
        {
          "output_type": "stream",
          "name": "stdout",
          "text": [
            "42\n",
            "21\n"
          ]
        }
      ]
    },
    {
      "cell_type": "markdown",
      "source": [
        "# Use HOO method to get a comb from a permutation\n"
      ],
      "metadata": {
        "id": "EUyfYF1cS6rZ"
      }
    },
    {
      "cell_type": "code",
      "source": [
        "import copy\n",
        "import bisect\n",
        "\n",
        "def recover_2_to_5(per):\n",
        "  index = 1 if per[1] < per[0] else 0\n",
        "  temp_list = copy.deepcopy(list(per))\n",
        "  temp_list.sort()\n",
        "\n",
        "  # 2 => 3\n",
        "  potential_3 = []\n",
        "  for i in range(1, n + 1):\n",
        "    if i in per:\n",
        "      continue\n",
        "    sum_list = sum(per) + i\n",
        "    reminder = sum_list % 3\n",
        "    location = bisect.bisect_left(temp_list, i)\n",
        "    if reminder == location:\n",
        "      potential_3.append(i)\n",
        "\n",
        "  if index == 1 and len(potential_3) == 1:\n",
        "    return\n",
        "\n",
        "  temp_list.append(potential_3[index])\n",
        "  temp_list.sort()\n",
        "  #print(\"2 => 3: \", temp_list)\n",
        "\n",
        "  # 3 => 4\n",
        "  for i in range(1, n + 1):\n",
        "    if i in temp_list:\n",
        "      continue\n",
        "    sum_list = sum(temp_list) + i\n",
        "    reminder = sum_list % 4\n",
        "    location = bisect.bisect_left(temp_list, i)\n",
        "    if reminder == location:\n",
        "      temp_list.append(i)\n",
        "      break\n",
        "  temp_list.sort()\n",
        "  #print(\"3 => 4: \", temp_list)\n",
        "\n",
        "  # 4 => 5\n",
        "  for i in range(1, n + 1):\n",
        "    if i in temp_list:\n",
        "      continue\n",
        "    sum_list = sum(temp_list) + i\n",
        "    reminder = sum_list % 5\n",
        "    location = bisect.bisect_left(temp_list, i)\n",
        "    if reminder == location:\n",
        "      temp_list.append(i)\n",
        "      break\n",
        "\n",
        "  temp_list.sort()\n",
        "  #print(\"4 => 5: \", temp_list)\n",
        "\n",
        "  return temp_list\n",
        "\n"
      ],
      "metadata": {
        "id": "7qahOqTNGei8"
      },
      "execution_count": null,
      "outputs": []
    },
    {
      "cell_type": "code",
      "source": [
        "copy_per_set = copy.deepcopy(per_set)\n",
        "copy_comb_set = copy.deepcopy(comb_set)\n",
        "for per in pers:\n",
        "  temp_list = recover_2_to_5(per)\n",
        "  if temp_list is None or len(temp_list) != 5:\n",
        "    continue\n",
        "  per_5 = tuple(temp_list)\n",
        "  copy_per_set.remove(per)\n",
        "  copy_comb_set.remove(per_5)\n",
        "\n",
        "# the left unmatched permutations and combinations\n",
        "print(copy_per_set)\n",
        "print(len(copy_per_set))\n",
        "print(copy_comb_set)\n",
        "print(len(copy_comb_set))"
      ],
      "metadata": {
        "colab": {
          "base_uri": "https://localhost:8080/"
        },
        "id": "sm5hZXkzP1hk",
        "outputId": "6ee23e1f-bc4b-4949-e1d4-e3154469fe1a"
      },
      "execution_count": null,
      "outputs": [
        {
          "output_type": "stream",
          "name": "stdout",
          "text": [
            "{(3, 4), (4, 3), (5, 4), (5, 1), (5, 7), (1, 3), (6, 5), (4, 2), (5, 3), (1, 2), (2, 1), (6, 4), (7, 3), (6, 7), (7, 6), (3, 5), (1, 4), (2, 3), (7, 2), (7, 5), (6, 3)}\n",
            "21\n",
            "set()\n",
            "0\n"
          ]
        }
      ]
    },
    {
      "cell_type": "markdown",
      "source": [
        "# Match the left permutations and combinations"
      ],
      "metadata": {
        "id": "fMlSxzp6TPed"
      }
    },
    {
      "cell_type": "code",
      "source": [
        "# we have 12 left permutations and combinations, use grubi to match them\n",
        "# define yij = 1 if comb j contains per i\n",
        "# max Sum(xij)\n",
        "# s.t. Sum over i (xij) = 1, for any j\n",
        "#      Sum over j (xij) = 1, for any i\n",
        "#      xij <= yij\n",
        "\n",
        "%pip install gurobipy\n",
        "\n",
        "import gurobipy as gp\n",
        "from gurobipy import GRB\n",
        "\n"
      ],
      "metadata": {
        "colab": {
          "base_uri": "https://localhost:8080/"
        },
        "id": "R4BDiWbFTk_e",
        "outputId": "63277f74-a5ee-4087-bf50-c1a10200ef1b"
      },
      "execution_count": null,
      "outputs": [
        {
          "output_type": "stream",
          "name": "stdout",
          "text": [
            "Collecting gurobipy\n",
            "  Downloading gurobipy-11.0.1-cp310-cp310-manylinux2014_x86_64.manylinux_2_17_x86_64.whl (13.4 MB)\n",
            "\u001b[2K     \u001b[90m━━━━━━━━━━━━━━━━━━━━━━━━━━━━━━━━━━━━━━━━\u001b[0m \u001b[32m13.4/13.4 MB\u001b[0m \u001b[31m66.5 MB/s\u001b[0m eta \u001b[36m0:00:00\u001b[0m\n",
            "\u001b[?25hInstalling collected packages: gurobipy\n",
            "Successfully installed gurobipy-11.0.1\n"
          ]
        }
      ]
    },
    {
      "cell_type": "code",
      "source": [
        "m = gp.Model(\"left_matching_8_5_2\")\n",
        "\n",
        "# Create decision variables using a list of indices from 1 to 144\n",
        "indices = list(range(0, 144))\n",
        "\n",
        "x = m.addVars(indices, vtype=GRB.BINARY, name='x')\n",
        "\n",
        "# Objective function\n",
        "m.setObjective(- x.sum())\n"
      ],
      "metadata": {
        "id": "WsJ_EvbbUH_V",
        "colab": {
          "base_uri": "https://localhost:8080/"
        },
        "outputId": "8c281b92-cbc3-4614-c595-d8af86826b57"
      },
      "execution_count": null,
      "outputs": [
        {
          "output_type": "stream",
          "name": "stdout",
          "text": [
            "Restricted license - for non-production use only - expires 2025-11-24\n"
          ]
        }
      ]
    },
    {
      "cell_type": "code",
      "source": [
        "# construct yij\n",
        "per_list = list(copy_per_set)\n",
        "comb_list = list(copy_comb_set)\n",
        "\n",
        "y = [0 for _ in range(144)]\n",
        "\n",
        "for i in range(12):\n",
        "  for j in range(12):\n",
        "    is_subset = set(per_list[i]).issubset(set(comb_list[j]))\n",
        "    if is_subset:\n",
        "      y[i * 12 + j] = 1\n"
      ],
      "metadata": {
        "colab": {
          "base_uri": "https://localhost:8080/",
          "height": 211
        },
        "id": "Km0k5LjpWrjC",
        "outputId": "896521e5-54bd-4f25-ee2a-676f088ec65d"
      },
      "execution_count": null,
      "outputs": [
        {
          "output_type": "error",
          "ename": "IndexError",
          "evalue": "list index out of range",
          "traceback": [
            "\u001b[0;31m---------------------------------------------------------------------------\u001b[0m",
            "\u001b[0;31mIndexError\u001b[0m                                Traceback (most recent call last)",
            "\u001b[0;32m<ipython-input-9-e37d7947f51a>\u001b[0m in \u001b[0;36m<cell line: 7>\u001b[0;34m()\u001b[0m\n\u001b[1;32m      7\u001b[0m \u001b[0;32mfor\u001b[0m \u001b[0mi\u001b[0m \u001b[0;32min\u001b[0m \u001b[0mrange\u001b[0m\u001b[0;34m(\u001b[0m\u001b[0;36m12\u001b[0m\u001b[0;34m)\u001b[0m\u001b[0;34m:\u001b[0m\u001b[0;34m\u001b[0m\u001b[0;34m\u001b[0m\u001b[0m\n\u001b[1;32m      8\u001b[0m   \u001b[0;32mfor\u001b[0m \u001b[0mj\u001b[0m \u001b[0;32min\u001b[0m \u001b[0mrange\u001b[0m\u001b[0;34m(\u001b[0m\u001b[0;36m12\u001b[0m\u001b[0;34m)\u001b[0m\u001b[0;34m:\u001b[0m\u001b[0;34m\u001b[0m\u001b[0;34m\u001b[0m\u001b[0m\n\u001b[0;32m----> 9\u001b[0;31m     \u001b[0mis_subset\u001b[0m \u001b[0;34m=\u001b[0m \u001b[0mset\u001b[0m\u001b[0;34m(\u001b[0m\u001b[0mper_list\u001b[0m\u001b[0;34m[\u001b[0m\u001b[0mi\u001b[0m\u001b[0;34m]\u001b[0m\u001b[0;34m)\u001b[0m\u001b[0;34m.\u001b[0m\u001b[0missubset\u001b[0m\u001b[0;34m(\u001b[0m\u001b[0mset\u001b[0m\u001b[0;34m(\u001b[0m\u001b[0mcomb_list\u001b[0m\u001b[0;34m[\u001b[0m\u001b[0mj\u001b[0m\u001b[0;34m]\u001b[0m\u001b[0;34m)\u001b[0m\u001b[0;34m)\u001b[0m\u001b[0;34m\u001b[0m\u001b[0;34m\u001b[0m\u001b[0m\n\u001b[0m\u001b[1;32m     10\u001b[0m     \u001b[0;32mif\u001b[0m \u001b[0mis_subset\u001b[0m\u001b[0;34m:\u001b[0m\u001b[0;34m\u001b[0m\u001b[0;34m\u001b[0m\u001b[0m\n\u001b[1;32m     11\u001b[0m       \u001b[0my\u001b[0m\u001b[0;34m[\u001b[0m\u001b[0mi\u001b[0m \u001b[0;34m*\u001b[0m \u001b[0;36m12\u001b[0m \u001b[0;34m+\u001b[0m \u001b[0mj\u001b[0m\u001b[0;34m]\u001b[0m \u001b[0;34m=\u001b[0m \u001b[0;36m1\u001b[0m\u001b[0;34m\u001b[0m\u001b[0;34m\u001b[0m\u001b[0m\n",
            "\u001b[0;31mIndexError\u001b[0m: list index out of range"
          ]
        }
      ]
    },
    {
      "cell_type": "code",
      "source": [
        "# constraints\n",
        "for i in range(12):\n",
        "  m.addConstr(gp.quicksum(x[12 * i + j] for j in range(12)) <= 1, 'x_j_sum_{}'.format(j))\n",
        "\n",
        "for j in range(12):\n",
        "  m.addConstr(gp.quicksum(x[12 * i + j] for i in range(12)) <= 1, 'x_i_sum_{}'.format(i))\n",
        "\n",
        "for i in range(144):\n",
        "  m.addConstr(x[i] <= y[i])\n",
        "\n"
      ],
      "metadata": {
        "id": "8-G7bB7aVeMN"
      },
      "execution_count": null,
      "outputs": []
    },
    {
      "cell_type": "code",
      "source": [
        "m.optimize()"
      ],
      "metadata": {
        "colab": {
          "base_uri": "https://localhost:8080/"
        },
        "id": "EZAy-5zzYR0Y",
        "outputId": "ab2a3bc4-190d-43e6-a2f9-e5cb8bb1c078"
      },
      "execution_count": null,
      "outputs": [
        {
          "output_type": "stream",
          "name": "stdout",
          "text": [
            "Gurobi Optimizer version 11.0.1 build v11.0.1rc0 (linux64 - \"Ubuntu 22.04.3 LTS\")\n",
            "\n",
            "CPU model: Intel(R) Xeon(R) CPU @ 2.20GHz, instruction set [SSE2|AVX|AVX2]\n",
            "Thread count: 1 physical cores, 2 logical processors, using up to 2 threads\n",
            "\n",
            "Optimize a model with 168 rows, 144 columns and 432 nonzeros\n",
            "Model fingerprint: 0x4321beb7\n",
            "Variable types: 0 continuous, 144 integer (144 binary)\n",
            "Coefficient statistics:\n",
            "  Matrix range     [1e+00, 1e+00]\n",
            "  Objective range  [1e+00, 1e+00]\n",
            "  Bounds range     [1e+00, 1e+00]\n",
            "  RHS range        [1e+00, 1e+00]\n",
            "Found heuristic solution: objective 0.0000000\n",
            "Presolve removed 168 rows and 144 columns\n",
            "Presolve time: 0.00s\n",
            "Presolve: All rows and columns removed\n",
            "\n",
            "Explored 0 nodes (0 simplex iterations) in 0.02 seconds (0.00 work units)\n",
            "Thread count was 1 (of 2 available processors)\n",
            "\n",
            "Solution count 1: 0 \n",
            "\n",
            "Optimal solution found (tolerance 1.00e-04)\n",
            "Best objective 0.000000000000e+00, best bound 0.000000000000e+00, gap 0.0000%\n"
          ]
        }
      ]
    },
    {
      "cell_type": "code",
      "source": [
        "for i in range(12):\n",
        "  for j in range(12):\n",
        "    if x[i * 12 + j].X == 1:\n",
        "      print(\"per: \", per_list[i], \", comb: \", comb_list[j])"
      ],
      "metadata": {
        "colab": {
          "base_uri": "https://localhost:8080/"
        },
        "id": "h1e0yOBsYcwv",
        "outputId": "d2c25fb3-0418-4084-ab4f-12930fc28924"
      },
      "execution_count": null,
      "outputs": [
        {
          "output_type": "stream",
          "name": "stdout",
          "text": [
            "per:  (3, 4) , comb:  (3, 4, 5, 7, 8)\n",
            "per:  (5, 4) , comb:  (2, 4, 5, 7, 8)\n",
            "per:  (8, 6) , comb:  (2, 3, 6, 7, 8)\n",
            "per:  (1, 3) , comb:  (1, 2, 3, 7, 8)\n",
            "per:  (8, 5) , comb:  (2, 4, 5, 6, 8)\n",
            "per:  (1, 2) , comb:  (1, 2, 3, 6, 8)\n",
            "per:  (6, 4) , comb:  (1, 2, 4, 6, 8)\n",
            "per:  (7, 6) , comb:  (4, 5, 6, 7, 8)\n",
            "per:  (3, 5) , comb:  (2, 3, 5, 7, 8)\n",
            "per:  (8, 4) , comb:  (1, 4, 6, 7, 8)\n",
            "per:  (1, 4) , comb:  (1, 2, 4, 5, 8)\n",
            "per:  (7, 8) , comb:  (1, 2, 4, 7, 8)\n"
          ]
        }
      ]
    },
    {
      "cell_type": "markdown",
      "source": [
        "So now, remember the 12 matchings and use the method HOO, we can get the upper bound of 8, 5, 2 model"
      ],
      "metadata": {
        "id": "GoueyMHWadb1"
      }
    }
  ]
}
